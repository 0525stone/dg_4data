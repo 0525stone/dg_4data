{
 "cells": [
  {
   "cell_type": "markdown",
   "metadata": {},
   "source": [
    "## vanishing point들을 각도로 바꿔주는 코드\n",
    "##### 참조 : 190312_3D_check.ipynb, point2grid.ipynb\n",
    "##### image size : 1280x720, etc"
   ]
  },
  {
   "cell_type": "markdown",
   "metadata": {},
   "source": [
    "## atan() 을 써야함\n",
    "### atan() : -0.5Pi ~ 0.5Pi / atan2() : -Pi ~ Pi\n",
    "### 1 rad = 57.29 degree"
   ]
  },
  {
   "cell_type": "code",
   "execution_count": 1,
   "metadata": {},
   "outputs": [],
   "source": [
    "import numpy as np\n",
    "import sys"
   ]
  },
  {
   "cell_type": "code",
   "execution_count": 2,
   "metadata": {},
   "outputs": [
    {
     "name": "stdout",
     "output_type": "stream",
     "text": [
      "x axis ok\n",
      "y axis ok\n"
     ]
    }
   ],
   "source": [
    "# parameter\n",
    "image_x = 1280 # 얘도 파일 샘플로 하나 불러와서 width 알아내게하면 좋겠군\n",
    "image_y = 720\n",
    "grid_size = 80\n",
    "\n",
    "if ((image_x%grid_size)==0):\n",
    "    print('x axis ok')\n",
    "else:\n",
    "    print('x axis not ok')\n",
    "if ((image_y%grid_size)==0):\n",
    "    print('y axis ok')\n",
    "else:\n",
    "    print('y axis not ok')"
   ]
  },
  {
   "cell_type": "code",
   "execution_count": 8,
   "metadata": {},
   "outputs": [],
   "source": [
    "# reading file 1 .readlines\n",
    "# filename = '~/2019_Data/vanishingpoint/190722/L.txt'\n",
    "filename = 'L.txt'\n",
    "f = open(filename, 'r')\n",
    "\n",
    "for i in f:\n",
    "    lines=f.readlines() # readline()은 줄바꿈이 문장의 단위가 됨. readlines는 문장 전체를 읽음\n",
    "  #  print(lines)\n",
    "#print(len(lines))\n",
    "\n",
    "# lines를 일일이 다 잘라줘야함... readline이 이상해서\n",
    "x = np.array([])\n",
    "y = np.array([])\n",
    "\n",
    "for i in range(len(lines)):\n",
    "    x_,y_ = lines[i].split()\n",
    "    x= np.append(x,x_)\n",
    "    y= np.append(y,y_)\n",
    "\n"
   ]
  },
  {
   "cell_type": "code",
   "execution_count": 9,
   "metadata": {},
   "outputs": [],
   "source": [
    "import math\n",
    "\n",
    "def inner_product (a,b,c,d):\n",
    "    return a*c+b*d\n",
    "\n",
    "def cross_product (a,b,c,d):\n",
    "    dot_x = b-d\n",
    "    dot_y = c-a\n",
    "    dot_z = a*d-b*c    \n",
    "    return dot_x,dot_y,dot_z\n",
    "\n",
    "def length(a):\n",
    "    sum = 0\n",
    "    for i in range(len(a)):\n",
    "        sum += a[i]*a[i]\n",
    "    \n",
    "\n",
    "def get_sine (a,b,c,d):\n",
    "    x_,y_,z_ = cross_product(a,b,c,d)"
   ]
  },
  {
   "cell_type": "code",
   "execution_count": 21,
   "metadata": {},
   "outputs": [],
   "source": [
    "# get angle\n",
    "angle = np.array([])\n",
    "axis = np.array([0,-image_y])\n",
    "\n",
    "for i in range(len(lines)):\n",
    "    vec = np.array([int(x[i]),int(y[i])])\n",
    "  #  c_p = cross_product(vec[0],vec[1],axis[0],axis[1])\n",
    "#    cos = inner_product(vec[0],vec[1],axis[0],axis[1])\n",
    "    c_p = np.cross(np.array([vec[0],vec[1],0]),np.array([axis[0],axis[1],0]))\n",
    "    cos = np.inner(vec,axis)/(np.linalg.norm(vec)*np.linalg.norm(axis))\n",
    "\n",
    "    sin = np.linalg.norm(c_p)/(np.linalg.norm(vec)*np.linalg.norm(axis))\n",
    "    angle = np.append(angle,math.atan(sin/cos))\n",
    "angle = 57.29*angle\n",
    "\n",
    "\n",
    "# file 저장\n",
    "f = open(\"angle_L.txt\",'w')\n",
    "for i in range(len(angle)):\n",
    "    data=str(float(angle[i]))+'\\n'\n",
    "    f.write(data)\n",
    "f.close()"
   ]
  },
  {
   "cell_type": "code",
   "execution_count": null,
   "metadata": {},
   "outputs": [],
   "source": []
  },
  {
   "cell_type": "code",
   "execution_count": null,
   "metadata": {},
   "outputs": [],
   "source": []
  },
  {
   "cell_type": "code",
   "execution_count": null,
   "metadata": {},
   "outputs": [],
   "source": []
  }
 ],
 "metadata": {
  "kernelspec": {
   "display_name": "Python 3",
   "language": "python",
   "name": "python3"
  },
  "language_info": {
   "codemirror_mode": {
    "name": "ipython",
    "version": 3
   },
   "file_extension": ".py",
   "mimetype": "text/x-python",
   "name": "python",
   "nbconvert_exporter": "python",
   "pygments_lexer": "ipython3",
   "version": "3.6.8"
  }
 },
 "nbformat": 4,
 "nbformat_minor": 2
}
